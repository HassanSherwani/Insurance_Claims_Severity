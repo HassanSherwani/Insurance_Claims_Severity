{
 "cells": [
  {
   "cell_type": "markdown",
   "metadata": {
    "colab_type": "text",
    "id": "avyv1ckxvYkP"
   },
   "source": [
    "# Allstate Claims Severity\n",
    "\n",
    "Kaggle challenge"
   ]
  },
  {
   "cell_type": "markdown",
   "metadata": {
    "colab_type": "text",
    "id": "sInLCa6MveQ7"
   },
   "source": [
    "# 1)- Importing key libraries\n"
   ]
  },
  {
   "cell_type": "code",
   "execution_count": 1,
   "metadata": {
    "colab": {},
    "colab_type": "code",
    "id": "vqDoOj6avbjF"
   },
   "outputs": [],
   "source": [
    "#support both Python 2 and Python 3 with minimal overhead.\n",
    "from __future__ import absolute_import, division, print_function"
   ]
  },
  {
   "cell_type": "code",
   "execution_count": 2,
   "metadata": {
    "colab": {},
    "colab_type": "code",
    "id": "y65EbJsrvh4z"
   },
   "outputs": [],
   "source": [
    "# I am an engineer. I care only about error not warning. So, let's be maverick and ignore warnings.\n",
    "import warnings\n",
    "warnings.filterwarnings('ignore')"
   ]
  },
  {
   "cell_type": "code",
   "execution_count": 3,
   "metadata": {},
   "outputs": [
    {
     "data": {
      "text/html": [
       "<style>body {\n",
       "    margin: 0;\n",
       "    font-family: Helvetica;\n",
       "}\n",
       "table.dataframe {\n",
       "    border-collapse: collapse;\n",
       "    border: none;\n",
       "}\n",
       "table.dataframe tr {\n",
       "    border: none;\n",
       "}\n",
       "table.dataframe td, table.dataframe th {\n",
       "    margin: 0;\n",
       "    border: 1px solid white;\n",
       "    padding-left: 0.25em;\n",
       "    padding-right: 0.25em;\n",
       "}\n",
       "table.dataframe th:not(:empty) {\n",
       "    background-color: #fec;\n",
       "    text-align: left;\n",
       "    font-weight: normal;\n",
       "}\n",
       "table.dataframe tr:nth-child(2) th:empty {\n",
       "    border-left: none;\n",
       "    border-right: 1px dashed #888;\n",
       "}\n",
       "table.dataframe td {\n",
       "    border: 2px solid #ccf;\n",
       "    background-color: #f4f4ff;\n",
       "}\n",
       "h3 {\n",
       "    color: white;\n",
       "    background-color: black;\n",
       "    padding: 0.5em;\n",
       "}\n",
       "</style>"
      ],
      "text/plain": [
       "<IPython.core.display.HTML object>"
      ]
     },
     "execution_count": 3,
     "metadata": {},
     "output_type": "execute_result"
    }
   ],
   "source": [
    "# What's life without style :). So, let's add style to our dataframes\n",
    "from IPython.core.display import HTML\n",
    "css = open('style-table.css').read() + open('style-notebook.css').read()\n",
    "HTML('<style>{}</style>'.format(css))"
   ]
  },
  {
   "cell_type": "code",
   "execution_count": 4,
   "metadata": {
    "colab": {},
    "colab_type": "code",
    "id": "b3HI3iaLvkBU"
   },
   "outputs": [],
   "source": [
    "import pandas as pd\n",
    "import numpy as np\n",
    "from scipy import stats\n",
    "import sys\n",
    "import sklearn\n",
    "import matplotlib.pyplot as plt\n",
    "import seaborn as sns\n",
    "%matplotlib inline"
   ]
  },
  {
   "cell_type": "code",
   "execution_count": 6,
   "metadata": {
    "colab": {
     "base_uri": "https://localhost:8080/",
     "height": 238
    },
    "colab_type": "code",
    "id": "itAFPjeKvmPL",
    "outputId": "a72197d8-50f5-4212-b9c3-78c7fc2f1669"
   },
   "outputs": [
    {
     "data": {
      "application/json": {
       "Software versions": [
        {
         "module": "Python",
         "version": "3.6.3 64bit [MSC v.1900 64 bit (AMD64)]"
        },
        {
         "module": "IPython",
         "version": "7.4.0"
        },
        {
         "module": "OS",
         "version": "Windows 10 10.0.16299 SP0"
        },
        {
         "module": "pandas",
         "version": "0.23.4"
        },
        {
         "module": "numpy",
         "version": "1.16.2"
        },
        {
         "module": "seaborn",
         "version": "0.9.0"
        },
        {
         "module": "matplotlib",
         "version": "2.1.0"
        },
        {
         "module": "scipy",
         "version": "1.1.0"
        },
        {
         "module": "sklearn",
         "version": "0.20.3"
        }
       ]
      },
      "text/html": [
       "<table><tr><th>Software</th><th>Version</th></tr><tr><td>Python</td><td>3.6.3 64bit [MSC v.1900 64 bit (AMD64)]</td></tr><tr><td>IPython</td><td>7.4.0</td></tr><tr><td>OS</td><td>Windows 10 10.0.16299 SP0</td></tr><tr><td>pandas</td><td>0.23.4</td></tr><tr><td>numpy</td><td>1.16.2</td></tr><tr><td>seaborn</td><td>0.9.0</td></tr><tr><td>matplotlib</td><td>2.1.0</td></tr><tr><td>scipy</td><td>1.1.0</td></tr><tr><td>sklearn</td><td>0.20.3</td></tr><tr><td colspan='2'>Tue Aug 27 16:18:05 2019 W. Europe Daylight Time</td></tr></table>"
      ],
      "text/latex": [
       "\\begin{tabular}{|l|l|}\\hline\n",
       "{\\bf Software} & {\\bf Version} \\\\ \\hline\\hline\n",
       "Python & 3.6.3 64bit [MSC v.1900 64 bit (AMD64)] \\\\ \\hline\n",
       "IPython & 7.4.0 \\\\ \\hline\n",
       "OS & Windows 10 10.0.16299 SP0 \\\\ \\hline\n",
       "pandas & 0.23.4 \\\\ \\hline\n",
       "numpy & 1.16.2 \\\\ \\hline\n",
       "seaborn & 0.9.0 \\\\ \\hline\n",
       "matplotlib & 2.1.0 \\\\ \\hline\n",
       "scipy & 1.1.0 \\\\ \\hline\n",
       "sklearn & 0.20.3 \\\\ \\hline\n",
       "\\hline \\multicolumn{2}{|l|}{Tue Aug 27 16:18:05 2019 W. Europe Daylight Time} \\\\ \\hline\n",
       "\\end{tabular}\n"
      ],
      "text/plain": [
       "Software versions\n",
       "Python 3.6.3 64bit [MSC v.1900 64 bit (AMD64)]\n",
       "IPython 7.4.0\n",
       "OS Windows 10 10.0.16299 SP0\n",
       "pandas 0.23.4\n",
       "numpy 1.16.2\n",
       "seaborn 0.9.0\n",
       "matplotlib 2.1.0\n",
       "scipy 1.1.0\n",
       "sklearn 0.20.3\n",
       "Tue Aug 27 16:18:05 2019 W. Europe Daylight Time"
      ]
     },
     "execution_count": 6,
     "metadata": {},
     "output_type": "execute_result"
    }
   ],
   "source": [
    "# first install: pip install version_information\n",
    "%reload_ext version_information\n",
    "%version_information pandas, numpy, seaborn, matplotlib,scipy,sklearn"
   ]
  },
  {
   "cell_type": "markdown",
   "metadata": {
    "colab_type": "text",
    "id": "ATj1mY_UwM5S"
   },
   "source": [
    "# 2)- Loading data"
   ]
  },
  {
   "cell_type": "code",
   "execution_count": 7,
   "metadata": {
    "colab": {},
    "colab_type": "code",
    "id": "Ks4-xeWOvtMd"
   },
   "outputs": [],
   "source": [
    "df_insurance=pd.read_csv('train.csv')\n",
    "df_test=pd.read_csv('test.csv')\n",
    "df_submit=pd.read_csv('sample_submission.csv')"
   ]
  },
  {
   "cell_type": "code",
   "execution_count": 8,
   "metadata": {
    "colab": {
     "base_uri": "https://localhost:8080/",
     "height": 244
    },
    "colab_type": "code",
    "id": "Y2d2qk4LxUWI",
    "outputId": "58bc2e56-8753-4a62-a0a6-d04fc82e3ea8"
   },
   "outputs": [
    {
     "data": {
      "text/html": [
       "<div>\n",
       "<style scoped>\n",
       "    .dataframe tbody tr th:only-of-type {\n",
       "        vertical-align: middle;\n",
       "    }\n",
       "\n",
       "    .dataframe tbody tr th {\n",
       "        vertical-align: top;\n",
       "    }\n",
       "\n",
       "    .dataframe thead th {\n",
       "        text-align: right;\n",
       "    }\n",
       "</style>\n",
       "<table border=\"1\" class=\"dataframe\">\n",
       "  <thead>\n",
       "    <tr style=\"text-align: right;\">\n",
       "      <th></th>\n",
       "      <th>id</th>\n",
       "      <th>cat1</th>\n",
       "      <th>cat2</th>\n",
       "      <th>cat3</th>\n",
       "      <th>cat4</th>\n",
       "      <th>cat5</th>\n",
       "      <th>cat6</th>\n",
       "      <th>cat7</th>\n",
       "      <th>cat8</th>\n",
       "      <th>cat9</th>\n",
       "      <th>...</th>\n",
       "      <th>cont6</th>\n",
       "      <th>cont7</th>\n",
       "      <th>cont8</th>\n",
       "      <th>cont9</th>\n",
       "      <th>cont10</th>\n",
       "      <th>cont11</th>\n",
       "      <th>cont12</th>\n",
       "      <th>cont13</th>\n",
       "      <th>cont14</th>\n",
       "      <th>loss</th>\n",
       "    </tr>\n",
       "  </thead>\n",
       "  <tbody>\n",
       "    <tr>\n",
       "      <th>0</th>\n",
       "      <td>1</td>\n",
       "      <td>A</td>\n",
       "      <td>B</td>\n",
       "      <td>A</td>\n",
       "      <td>B</td>\n",
       "      <td>A</td>\n",
       "      <td>A</td>\n",
       "      <td>A</td>\n",
       "      <td>A</td>\n",
       "      <td>B</td>\n",
       "      <td>...</td>\n",
       "      <td>0.718367</td>\n",
       "      <td>0.335060</td>\n",
       "      <td>0.30260</td>\n",
       "      <td>0.67135</td>\n",
       "      <td>0.83510</td>\n",
       "      <td>0.569745</td>\n",
       "      <td>0.594646</td>\n",
       "      <td>0.822493</td>\n",
       "      <td>0.714843</td>\n",
       "      <td>2213.18</td>\n",
       "    </tr>\n",
       "    <tr>\n",
       "      <th>1</th>\n",
       "      <td>2</td>\n",
       "      <td>A</td>\n",
       "      <td>B</td>\n",
       "      <td>A</td>\n",
       "      <td>A</td>\n",
       "      <td>A</td>\n",
       "      <td>A</td>\n",
       "      <td>A</td>\n",
       "      <td>A</td>\n",
       "      <td>B</td>\n",
       "      <td>...</td>\n",
       "      <td>0.438917</td>\n",
       "      <td>0.436585</td>\n",
       "      <td>0.60087</td>\n",
       "      <td>0.35127</td>\n",
       "      <td>0.43919</td>\n",
       "      <td>0.338312</td>\n",
       "      <td>0.366307</td>\n",
       "      <td>0.611431</td>\n",
       "      <td>0.304496</td>\n",
       "      <td>1283.60</td>\n",
       "    </tr>\n",
       "    <tr>\n",
       "      <th>2</th>\n",
       "      <td>5</td>\n",
       "      <td>A</td>\n",
       "      <td>B</td>\n",
       "      <td>A</td>\n",
       "      <td>A</td>\n",
       "      <td>B</td>\n",
       "      <td>A</td>\n",
       "      <td>A</td>\n",
       "      <td>A</td>\n",
       "      <td>B</td>\n",
       "      <td>...</td>\n",
       "      <td>0.289648</td>\n",
       "      <td>0.315545</td>\n",
       "      <td>0.27320</td>\n",
       "      <td>0.26076</td>\n",
       "      <td>0.32446</td>\n",
       "      <td>0.381398</td>\n",
       "      <td>0.373424</td>\n",
       "      <td>0.195709</td>\n",
       "      <td>0.774425</td>\n",
       "      <td>3005.09</td>\n",
       "    </tr>\n",
       "    <tr>\n",
       "      <th>3</th>\n",
       "      <td>10</td>\n",
       "      <td>B</td>\n",
       "      <td>B</td>\n",
       "      <td>A</td>\n",
       "      <td>B</td>\n",
       "      <td>A</td>\n",
       "      <td>A</td>\n",
       "      <td>A</td>\n",
       "      <td>A</td>\n",
       "      <td>B</td>\n",
       "      <td>...</td>\n",
       "      <td>0.440945</td>\n",
       "      <td>0.391128</td>\n",
       "      <td>0.31796</td>\n",
       "      <td>0.32128</td>\n",
       "      <td>0.44467</td>\n",
       "      <td>0.327915</td>\n",
       "      <td>0.321570</td>\n",
       "      <td>0.605077</td>\n",
       "      <td>0.602642</td>\n",
       "      <td>939.85</td>\n",
       "    </tr>\n",
       "    <tr>\n",
       "      <th>4</th>\n",
       "      <td>11</td>\n",
       "      <td>A</td>\n",
       "      <td>B</td>\n",
       "      <td>A</td>\n",
       "      <td>B</td>\n",
       "      <td>A</td>\n",
       "      <td>A</td>\n",
       "      <td>A</td>\n",
       "      <td>A</td>\n",
       "      <td>B</td>\n",
       "      <td>...</td>\n",
       "      <td>0.178193</td>\n",
       "      <td>0.247408</td>\n",
       "      <td>0.24564</td>\n",
       "      <td>0.22089</td>\n",
       "      <td>0.21230</td>\n",
       "      <td>0.204687</td>\n",
       "      <td>0.202213</td>\n",
       "      <td>0.246011</td>\n",
       "      <td>0.432606</td>\n",
       "      <td>2763.85</td>\n",
       "    </tr>\n",
       "  </tbody>\n",
       "</table>\n",
       "<p>5 rows × 132 columns</p>\n",
       "</div>"
      ],
      "text/plain": [
       "   id cat1 cat2 cat3 cat4 cat5 cat6 cat7 cat8 cat9   ...        cont6  \\\n",
       "0   1    A    B    A    B    A    A    A    A    B   ...     0.718367   \n",
       "1   2    A    B    A    A    A    A    A    A    B   ...     0.438917   \n",
       "2   5    A    B    A    A    B    A    A    A    B   ...     0.289648   \n",
       "3  10    B    B    A    B    A    A    A    A    B   ...     0.440945   \n",
       "4  11    A    B    A    B    A    A    A    A    B   ...     0.178193   \n",
       "\n",
       "      cont7    cont8    cont9   cont10    cont11    cont12    cont13  \\\n",
       "0  0.335060  0.30260  0.67135  0.83510  0.569745  0.594646  0.822493   \n",
       "1  0.436585  0.60087  0.35127  0.43919  0.338312  0.366307  0.611431   \n",
       "2  0.315545  0.27320  0.26076  0.32446  0.381398  0.373424  0.195709   \n",
       "3  0.391128  0.31796  0.32128  0.44467  0.327915  0.321570  0.605077   \n",
       "4  0.247408  0.24564  0.22089  0.21230  0.204687  0.202213  0.246011   \n",
       "\n",
       "     cont14     loss  \n",
       "0  0.714843  2213.18  \n",
       "1  0.304496  1283.60  \n",
       "2  0.774425  3005.09  \n",
       "3  0.602642   939.85  \n",
       "4  0.432606  2763.85  \n",
       "\n",
       "[5 rows x 132 columns]"
      ]
     },
     "execution_count": 8,
     "metadata": {},
     "output_type": "execute_result"
    }
   ],
   "source": [
    "df_insurance.head()"
   ]
  },
  {
   "cell_type": "code",
   "execution_count": 9,
   "metadata": {
    "colab": {
     "base_uri": "https://localhost:8080/",
     "height": 244
    },
    "colab_type": "code",
    "id": "DNdmhgIixZCZ",
    "outputId": "76288558-2804-477c-dadd-0f1569db74b0"
   },
   "outputs": [
    {
     "data": {
      "text/html": [
       "<div>\n",
       "<style scoped>\n",
       "    .dataframe tbody tr th:only-of-type {\n",
       "        vertical-align: middle;\n",
       "    }\n",
       "\n",
       "    .dataframe tbody tr th {\n",
       "        vertical-align: top;\n",
       "    }\n",
       "\n",
       "    .dataframe thead th {\n",
       "        text-align: right;\n",
       "    }\n",
       "</style>\n",
       "<table border=\"1\" class=\"dataframe\">\n",
       "  <thead>\n",
       "    <tr style=\"text-align: right;\">\n",
       "      <th></th>\n",
       "      <th>id</th>\n",
       "      <th>cat1</th>\n",
       "      <th>cat2</th>\n",
       "      <th>cat3</th>\n",
       "      <th>cat4</th>\n",
       "      <th>cat5</th>\n",
       "      <th>cat6</th>\n",
       "      <th>cat7</th>\n",
       "      <th>cat8</th>\n",
       "      <th>cat9</th>\n",
       "      <th>...</th>\n",
       "      <th>cont6</th>\n",
       "      <th>cont7</th>\n",
       "      <th>cont8</th>\n",
       "      <th>cont9</th>\n",
       "      <th>cont10</th>\n",
       "      <th>cont11</th>\n",
       "      <th>cont12</th>\n",
       "      <th>cont13</th>\n",
       "      <th>cont14</th>\n",
       "      <th>loss</th>\n",
       "    </tr>\n",
       "  </thead>\n",
       "  <tbody>\n",
       "    <tr>\n",
       "      <th>188313</th>\n",
       "      <td>587620</td>\n",
       "      <td>A</td>\n",
       "      <td>B</td>\n",
       "      <td>A</td>\n",
       "      <td>A</td>\n",
       "      <td>A</td>\n",
       "      <td>A</td>\n",
       "      <td>A</td>\n",
       "      <td>A</td>\n",
       "      <td>B</td>\n",
       "      <td>...</td>\n",
       "      <td>0.242437</td>\n",
       "      <td>0.289949</td>\n",
       "      <td>0.24564</td>\n",
       "      <td>0.30859</td>\n",
       "      <td>0.32935</td>\n",
       "      <td>0.223038</td>\n",
       "      <td>0.220003</td>\n",
       "      <td>0.333292</td>\n",
       "      <td>0.208216</td>\n",
       "      <td>1198.62</td>\n",
       "    </tr>\n",
       "    <tr>\n",
       "      <th>188314</th>\n",
       "      <td>587624</td>\n",
       "      <td>A</td>\n",
       "      <td>A</td>\n",
       "      <td>A</td>\n",
       "      <td>A</td>\n",
       "      <td>A</td>\n",
       "      <td>B</td>\n",
       "      <td>A</td>\n",
       "      <td>A</td>\n",
       "      <td>A</td>\n",
       "      <td>...</td>\n",
       "      <td>0.334270</td>\n",
       "      <td>0.382000</td>\n",
       "      <td>0.63475</td>\n",
       "      <td>0.40455</td>\n",
       "      <td>0.47779</td>\n",
       "      <td>0.307628</td>\n",
       "      <td>0.301921</td>\n",
       "      <td>0.318646</td>\n",
       "      <td>0.305872</td>\n",
       "      <td>1108.34</td>\n",
       "    </tr>\n",
       "    <tr>\n",
       "      <th>188315</th>\n",
       "      <td>587630</td>\n",
       "      <td>A</td>\n",
       "      <td>B</td>\n",
       "      <td>A</td>\n",
       "      <td>A</td>\n",
       "      <td>A</td>\n",
       "      <td>A</td>\n",
       "      <td>A</td>\n",
       "      <td>B</td>\n",
       "      <td>B</td>\n",
       "      <td>...</td>\n",
       "      <td>0.345883</td>\n",
       "      <td>0.370534</td>\n",
       "      <td>0.24564</td>\n",
       "      <td>0.45808</td>\n",
       "      <td>0.47779</td>\n",
       "      <td>0.445614</td>\n",
       "      <td>0.443374</td>\n",
       "      <td>0.339244</td>\n",
       "      <td>0.503888</td>\n",
       "      <td>5762.64</td>\n",
       "    </tr>\n",
       "    <tr>\n",
       "      <th>188316</th>\n",
       "      <td>587632</td>\n",
       "      <td>A</td>\n",
       "      <td>B</td>\n",
       "      <td>A</td>\n",
       "      <td>A</td>\n",
       "      <td>A</td>\n",
       "      <td>A</td>\n",
       "      <td>A</td>\n",
       "      <td>A</td>\n",
       "      <td>B</td>\n",
       "      <td>...</td>\n",
       "      <td>0.704364</td>\n",
       "      <td>0.562866</td>\n",
       "      <td>0.34987</td>\n",
       "      <td>0.44767</td>\n",
       "      <td>0.53881</td>\n",
       "      <td>0.863052</td>\n",
       "      <td>0.852865</td>\n",
       "      <td>0.654753</td>\n",
       "      <td>0.721707</td>\n",
       "      <td>1562.87</td>\n",
       "    </tr>\n",
       "    <tr>\n",
       "      <th>188317</th>\n",
       "      <td>587633</td>\n",
       "      <td>B</td>\n",
       "      <td>A</td>\n",
       "      <td>A</td>\n",
       "      <td>B</td>\n",
       "      <td>A</td>\n",
       "      <td>A</td>\n",
       "      <td>A</td>\n",
       "      <td>A</td>\n",
       "      <td>A</td>\n",
       "      <td>...</td>\n",
       "      <td>0.844563</td>\n",
       "      <td>0.533048</td>\n",
       "      <td>0.97123</td>\n",
       "      <td>0.93383</td>\n",
       "      <td>0.83814</td>\n",
       "      <td>0.932195</td>\n",
       "      <td>0.946432</td>\n",
       "      <td>0.810511</td>\n",
       "      <td>0.721460</td>\n",
       "      <td>4751.72</td>\n",
       "    </tr>\n",
       "  </tbody>\n",
       "</table>\n",
       "<p>5 rows × 132 columns</p>\n",
       "</div>"
      ],
      "text/plain": [
       "            id cat1 cat2 cat3 cat4 cat5 cat6 cat7 cat8 cat9   ...     \\\n",
       "188313  587620    A    B    A    A    A    A    A    A    B   ...      \n",
       "188314  587624    A    A    A    A    A    B    A    A    A   ...      \n",
       "188315  587630    A    B    A    A    A    A    A    B    B   ...      \n",
       "188316  587632    A    B    A    A    A    A    A    A    B   ...      \n",
       "188317  587633    B    A    A    B    A    A    A    A    A   ...      \n",
       "\n",
       "           cont6     cont7    cont8    cont9   cont10    cont11    cont12  \\\n",
       "188313  0.242437  0.289949  0.24564  0.30859  0.32935  0.223038  0.220003   \n",
       "188314  0.334270  0.382000  0.63475  0.40455  0.47779  0.307628  0.301921   \n",
       "188315  0.345883  0.370534  0.24564  0.45808  0.47779  0.445614  0.443374   \n",
       "188316  0.704364  0.562866  0.34987  0.44767  0.53881  0.863052  0.852865   \n",
       "188317  0.844563  0.533048  0.97123  0.93383  0.83814  0.932195  0.946432   \n",
       "\n",
       "          cont13    cont14     loss  \n",
       "188313  0.333292  0.208216  1198.62  \n",
       "188314  0.318646  0.305872  1108.34  \n",
       "188315  0.339244  0.503888  5762.64  \n",
       "188316  0.654753  0.721707  1562.87  \n",
       "188317  0.810511  0.721460  4751.72  \n",
       "\n",
       "[5 rows x 132 columns]"
      ]
     },
     "execution_count": 9,
     "metadata": {},
     "output_type": "execute_result"
    }
   ],
   "source": [
    "df_insurance.tail()"
   ]
  },
  {
   "cell_type": "code",
   "execution_count": 10,
   "metadata": {
    "colab": {
     "base_uri": "https://localhost:8080/",
     "height": 34
    },
    "colab_type": "code",
    "id": "aNYl_aT8xcYa",
    "outputId": "7c664995-0a29-40a3-a29a-cd5faa552d23"
   },
   "outputs": [
    {
     "data": {
      "text/plain": [
       "(188318, 132)"
      ]
     },
     "execution_count": 10,
     "metadata": {},
     "output_type": "execute_result"
    }
   ],
   "source": [
    "df_insurance.shape"
   ]
  },
  {
   "cell_type": "code",
   "execution_count": 11,
   "metadata": {
    "colab": {
     "base_uri": "https://localhost:8080/",
     "height": 118
    },
    "colab_type": "code",
    "id": "LLWhYKQW0F4v",
    "outputId": "d848a57f-b3e6-44cf-aee3-e37a10a7a023"
   },
   "outputs": [
    {
     "data": {
      "text/plain": [
       "Index(['id', 'cat1', 'cat2', 'cat3', 'cat4', 'cat5', 'cat6', 'cat7', 'cat8',\n",
       "       'cat9',\n",
       "       ...\n",
       "       'cont6', 'cont7', 'cont8', 'cont9', 'cont10', 'cont11', 'cont12',\n",
       "       'cont13', 'cont14', 'loss'],\n",
       "      dtype='object', length=132)"
      ]
     },
     "execution_count": 11,
     "metadata": {},
     "output_type": "execute_result"
    }
   ],
   "source": [
    "df_insurance.columns"
   ]
  },
  {
   "cell_type": "code",
   "execution_count": 12,
   "metadata": {
    "colab": {
     "base_uri": "https://localhost:8080/",
     "height": 34
    },
    "colab_type": "code",
    "id": "bZ41mYzSxekV",
    "outputId": "9a61b7ff-884d-4aac-e917-44dcaca6fe0b"
   },
   "outputs": [
    {
     "data": {
      "text/plain": [
       "(125546, 131)"
      ]
     },
     "execution_count": 12,
     "metadata": {},
     "output_type": "execute_result"
    }
   ],
   "source": [
    "df_test.shape"
   ]
  },
  {
   "cell_type": "code",
   "execution_count": 13,
   "metadata": {
    "colab": {
     "base_uri": "https://localhost:8080/",
     "height": 244
    },
    "colab_type": "code",
    "id": "iU8VRj5IxorN",
    "outputId": "535ea821-c586-44f7-fc17-260f9a43791b"
   },
   "outputs": [
    {
     "data": {
      "text/html": [
       "<div>\n",
       "<style scoped>\n",
       "    .dataframe tbody tr th:only-of-type {\n",
       "        vertical-align: middle;\n",
       "    }\n",
       "\n",
       "    .dataframe tbody tr th {\n",
       "        vertical-align: top;\n",
       "    }\n",
       "\n",
       "    .dataframe thead th {\n",
       "        text-align: right;\n",
       "    }\n",
       "</style>\n",
       "<table border=\"1\" class=\"dataframe\">\n",
       "  <thead>\n",
       "    <tr style=\"text-align: right;\">\n",
       "      <th></th>\n",
       "      <th>id</th>\n",
       "      <th>cat1</th>\n",
       "      <th>cat2</th>\n",
       "      <th>cat3</th>\n",
       "      <th>cat4</th>\n",
       "      <th>cat5</th>\n",
       "      <th>cat6</th>\n",
       "      <th>cat7</th>\n",
       "      <th>cat8</th>\n",
       "      <th>cat9</th>\n",
       "      <th>...</th>\n",
       "      <th>cont5</th>\n",
       "      <th>cont6</th>\n",
       "      <th>cont7</th>\n",
       "      <th>cont8</th>\n",
       "      <th>cont9</th>\n",
       "      <th>cont10</th>\n",
       "      <th>cont11</th>\n",
       "      <th>cont12</th>\n",
       "      <th>cont13</th>\n",
       "      <th>cont14</th>\n",
       "    </tr>\n",
       "  </thead>\n",
       "  <tbody>\n",
       "    <tr>\n",
       "      <th>0</th>\n",
       "      <td>4</td>\n",
       "      <td>A</td>\n",
       "      <td>B</td>\n",
       "      <td>A</td>\n",
       "      <td>A</td>\n",
       "      <td>A</td>\n",
       "      <td>A</td>\n",
       "      <td>A</td>\n",
       "      <td>A</td>\n",
       "      <td>B</td>\n",
       "      <td>...</td>\n",
       "      <td>0.281143</td>\n",
       "      <td>0.466591</td>\n",
       "      <td>0.317681</td>\n",
       "      <td>0.61229</td>\n",
       "      <td>0.34365</td>\n",
       "      <td>0.38016</td>\n",
       "      <td>0.377724</td>\n",
       "      <td>0.369858</td>\n",
       "      <td>0.704052</td>\n",
       "      <td>0.392562</td>\n",
       "    </tr>\n",
       "    <tr>\n",
       "      <th>1</th>\n",
       "      <td>6</td>\n",
       "      <td>A</td>\n",
       "      <td>B</td>\n",
       "      <td>A</td>\n",
       "      <td>B</td>\n",
       "      <td>A</td>\n",
       "      <td>A</td>\n",
       "      <td>A</td>\n",
       "      <td>A</td>\n",
       "      <td>B</td>\n",
       "      <td>...</td>\n",
       "      <td>0.836443</td>\n",
       "      <td>0.482425</td>\n",
       "      <td>0.443760</td>\n",
       "      <td>0.71330</td>\n",
       "      <td>0.51890</td>\n",
       "      <td>0.60401</td>\n",
       "      <td>0.689039</td>\n",
       "      <td>0.675759</td>\n",
       "      <td>0.453468</td>\n",
       "      <td>0.208045</td>\n",
       "    </tr>\n",
       "    <tr>\n",
       "      <th>2</th>\n",
       "      <td>9</td>\n",
       "      <td>A</td>\n",
       "      <td>B</td>\n",
       "      <td>A</td>\n",
       "      <td>B</td>\n",
       "      <td>B</td>\n",
       "      <td>A</td>\n",
       "      <td>B</td>\n",
       "      <td>A</td>\n",
       "      <td>B</td>\n",
       "      <td>...</td>\n",
       "      <td>0.718531</td>\n",
       "      <td>0.212308</td>\n",
       "      <td>0.325779</td>\n",
       "      <td>0.29758</td>\n",
       "      <td>0.34365</td>\n",
       "      <td>0.30529</td>\n",
       "      <td>0.245410</td>\n",
       "      <td>0.241676</td>\n",
       "      <td>0.258586</td>\n",
       "      <td>0.297232</td>\n",
       "    </tr>\n",
       "    <tr>\n",
       "      <th>3</th>\n",
       "      <td>12</td>\n",
       "      <td>A</td>\n",
       "      <td>A</td>\n",
       "      <td>A</td>\n",
       "      <td>A</td>\n",
       "      <td>B</td>\n",
       "      <td>A</td>\n",
       "      <td>A</td>\n",
       "      <td>A</td>\n",
       "      <td>A</td>\n",
       "      <td>...</td>\n",
       "      <td>0.397069</td>\n",
       "      <td>0.369930</td>\n",
       "      <td>0.342355</td>\n",
       "      <td>0.40028</td>\n",
       "      <td>0.33237</td>\n",
       "      <td>0.31480</td>\n",
       "      <td>0.348867</td>\n",
       "      <td>0.341872</td>\n",
       "      <td>0.592264</td>\n",
       "      <td>0.555955</td>\n",
       "    </tr>\n",
       "    <tr>\n",
       "      <th>4</th>\n",
       "      <td>15</td>\n",
       "      <td>B</td>\n",
       "      <td>A</td>\n",
       "      <td>A</td>\n",
       "      <td>A</td>\n",
       "      <td>A</td>\n",
       "      <td>B</td>\n",
       "      <td>A</td>\n",
       "      <td>A</td>\n",
       "      <td>A</td>\n",
       "      <td>...</td>\n",
       "      <td>0.302678</td>\n",
       "      <td>0.398862</td>\n",
       "      <td>0.391833</td>\n",
       "      <td>0.23688</td>\n",
       "      <td>0.43731</td>\n",
       "      <td>0.50556</td>\n",
       "      <td>0.359572</td>\n",
       "      <td>0.352251</td>\n",
       "      <td>0.301535</td>\n",
       "      <td>0.825823</td>\n",
       "    </tr>\n",
       "  </tbody>\n",
       "</table>\n",
       "<p>5 rows × 131 columns</p>\n",
       "</div>"
      ],
      "text/plain": [
       "   id cat1 cat2 cat3 cat4 cat5 cat6 cat7 cat8 cat9    ...        cont5  \\\n",
       "0   4    A    B    A    A    A    A    A    A    B    ...     0.281143   \n",
       "1   6    A    B    A    B    A    A    A    A    B    ...     0.836443   \n",
       "2   9    A    B    A    B    B    A    B    A    B    ...     0.718531   \n",
       "3  12    A    A    A    A    B    A    A    A    A    ...     0.397069   \n",
       "4  15    B    A    A    A    A    B    A    A    A    ...     0.302678   \n",
       "\n",
       "      cont6     cont7    cont8    cont9   cont10    cont11    cont12  \\\n",
       "0  0.466591  0.317681  0.61229  0.34365  0.38016  0.377724  0.369858   \n",
       "1  0.482425  0.443760  0.71330  0.51890  0.60401  0.689039  0.675759   \n",
       "2  0.212308  0.325779  0.29758  0.34365  0.30529  0.245410  0.241676   \n",
       "3  0.369930  0.342355  0.40028  0.33237  0.31480  0.348867  0.341872   \n",
       "4  0.398862  0.391833  0.23688  0.43731  0.50556  0.359572  0.352251   \n",
       "\n",
       "     cont13    cont14  \n",
       "0  0.704052  0.392562  \n",
       "1  0.453468  0.208045  \n",
       "2  0.258586  0.297232  \n",
       "3  0.592264  0.555955  \n",
       "4  0.301535  0.825823  \n",
       "\n",
       "[5 rows x 131 columns]"
      ]
     },
     "execution_count": 13,
     "metadata": {},
     "output_type": "execute_result"
    }
   ],
   "source": [
    "df_test.head()"
   ]
  },
  {
   "cell_type": "markdown",
   "metadata": {
    "colab_type": "text",
    "id": "hiZqtgLtxjrG"
   },
   "source": [
    "In test set, we do not have our dependant feature i.e loss"
   ]
  },
  {
   "cell_type": "markdown",
   "metadata": {
    "colab_type": "text",
    "id": "h7ohDbzaz6-A"
   },
   "source": [
    "### 2a)- Feature Description"
   ]
  },
  {
   "cell_type": "code",
   "execution_count": 14,
   "metadata": {
    "colab": {
     "base_uri": "https://localhost:8080/",
     "height": 304
    },
    "colab_type": "code",
    "id": "4QJ-1E35z-hm",
    "outputId": "1fe529a8-5251-4aed-fc49-eac8d8fa6117"
   },
   "outputs": [
    {
     "data": {
      "text/html": [
       "<div>\n",
       "<style scoped>\n",
       "    .dataframe tbody tr th:only-of-type {\n",
       "        vertical-align: middle;\n",
       "    }\n",
       "\n",
       "    .dataframe tbody tr th {\n",
       "        vertical-align: top;\n",
       "    }\n",
       "\n",
       "    .dataframe thead th {\n",
       "        text-align: right;\n",
       "    }\n",
       "</style>\n",
       "<table border=\"1\" class=\"dataframe\">\n",
       "  <thead>\n",
       "    <tr style=\"text-align: right;\">\n",
       "      <th></th>\n",
       "      <th>id</th>\n",
       "      <th>cont1</th>\n",
       "      <th>cont2</th>\n",
       "      <th>cont3</th>\n",
       "      <th>cont4</th>\n",
       "      <th>cont5</th>\n",
       "      <th>cont6</th>\n",
       "      <th>cont7</th>\n",
       "      <th>cont8</th>\n",
       "      <th>cont9</th>\n",
       "      <th>cont10</th>\n",
       "      <th>cont11</th>\n",
       "      <th>cont12</th>\n",
       "      <th>cont13</th>\n",
       "      <th>cont14</th>\n",
       "      <th>loss</th>\n",
       "    </tr>\n",
       "  </thead>\n",
       "  <tbody>\n",
       "    <tr>\n",
       "      <th>count</th>\n",
       "      <td>188318.000000</td>\n",
       "      <td>188318.000000</td>\n",
       "      <td>188318.000000</td>\n",
       "      <td>188318.000000</td>\n",
       "      <td>188318.000000</td>\n",
       "      <td>188318.000000</td>\n",
       "      <td>188318.000000</td>\n",
       "      <td>188318.000000</td>\n",
       "      <td>188318.000000</td>\n",
       "      <td>188318.000000</td>\n",
       "      <td>188318.000000</td>\n",
       "      <td>188318.000000</td>\n",
       "      <td>188318.000000</td>\n",
       "      <td>188318.000000</td>\n",
       "      <td>188318.000000</td>\n",
       "      <td>188318.000000</td>\n",
       "    </tr>\n",
       "    <tr>\n",
       "      <th>mean</th>\n",
       "      <td>294135.982561</td>\n",
       "      <td>0.493861</td>\n",
       "      <td>0.507188</td>\n",
       "      <td>0.498918</td>\n",
       "      <td>0.491812</td>\n",
       "      <td>0.487428</td>\n",
       "      <td>0.490945</td>\n",
       "      <td>0.484970</td>\n",
       "      <td>0.486437</td>\n",
       "      <td>0.485506</td>\n",
       "      <td>0.498066</td>\n",
       "      <td>0.493511</td>\n",
       "      <td>0.493150</td>\n",
       "      <td>0.493138</td>\n",
       "      <td>0.495717</td>\n",
       "      <td>3037.337686</td>\n",
       "    </tr>\n",
       "    <tr>\n",
       "      <th>std</th>\n",
       "      <td>169336.084867</td>\n",
       "      <td>0.187640</td>\n",
       "      <td>0.207202</td>\n",
       "      <td>0.202105</td>\n",
       "      <td>0.211292</td>\n",
       "      <td>0.209027</td>\n",
       "      <td>0.205273</td>\n",
       "      <td>0.178450</td>\n",
       "      <td>0.199370</td>\n",
       "      <td>0.181660</td>\n",
       "      <td>0.185877</td>\n",
       "      <td>0.209737</td>\n",
       "      <td>0.209427</td>\n",
       "      <td>0.212777</td>\n",
       "      <td>0.222488</td>\n",
       "      <td>2904.086186</td>\n",
       "    </tr>\n",
       "    <tr>\n",
       "      <th>min</th>\n",
       "      <td>1.000000</td>\n",
       "      <td>0.000016</td>\n",
       "      <td>0.001149</td>\n",
       "      <td>0.002634</td>\n",
       "      <td>0.176921</td>\n",
       "      <td>0.281143</td>\n",
       "      <td>0.012683</td>\n",
       "      <td>0.069503</td>\n",
       "      <td>0.236880</td>\n",
       "      <td>0.000080</td>\n",
       "      <td>0.000000</td>\n",
       "      <td>0.035321</td>\n",
       "      <td>0.036232</td>\n",
       "      <td>0.000228</td>\n",
       "      <td>0.179722</td>\n",
       "      <td>0.670000</td>\n",
       "    </tr>\n",
       "    <tr>\n",
       "      <th>25%</th>\n",
       "      <td>147748.250000</td>\n",
       "      <td>0.346090</td>\n",
       "      <td>0.358319</td>\n",
       "      <td>0.336963</td>\n",
       "      <td>0.327354</td>\n",
       "      <td>0.281143</td>\n",
       "      <td>0.336105</td>\n",
       "      <td>0.350175</td>\n",
       "      <td>0.312800</td>\n",
       "      <td>0.358970</td>\n",
       "      <td>0.364580</td>\n",
       "      <td>0.310961</td>\n",
       "      <td>0.311661</td>\n",
       "      <td>0.315758</td>\n",
       "      <td>0.294610</td>\n",
       "      <td>1204.460000</td>\n",
       "    </tr>\n",
       "    <tr>\n",
       "      <th>50%</th>\n",
       "      <td>294539.500000</td>\n",
       "      <td>0.475784</td>\n",
       "      <td>0.555782</td>\n",
       "      <td>0.527991</td>\n",
       "      <td>0.452887</td>\n",
       "      <td>0.422268</td>\n",
       "      <td>0.440945</td>\n",
       "      <td>0.438285</td>\n",
       "      <td>0.441060</td>\n",
       "      <td>0.441450</td>\n",
       "      <td>0.461190</td>\n",
       "      <td>0.457203</td>\n",
       "      <td>0.462286</td>\n",
       "      <td>0.363547</td>\n",
       "      <td>0.407403</td>\n",
       "      <td>2115.570000</td>\n",
       "    </tr>\n",
       "    <tr>\n",
       "      <th>75%</th>\n",
       "      <td>440680.500000</td>\n",
       "      <td>0.623912</td>\n",
       "      <td>0.681761</td>\n",
       "      <td>0.634224</td>\n",
       "      <td>0.652072</td>\n",
       "      <td>0.643315</td>\n",
       "      <td>0.655021</td>\n",
       "      <td>0.591045</td>\n",
       "      <td>0.623580</td>\n",
       "      <td>0.566820</td>\n",
       "      <td>0.614590</td>\n",
       "      <td>0.678924</td>\n",
       "      <td>0.675759</td>\n",
       "      <td>0.689974</td>\n",
       "      <td>0.724623</td>\n",
       "      <td>3864.045000</td>\n",
       "    </tr>\n",
       "    <tr>\n",
       "      <th>max</th>\n",
       "      <td>587633.000000</td>\n",
       "      <td>0.984975</td>\n",
       "      <td>0.862654</td>\n",
       "      <td>0.944251</td>\n",
       "      <td>0.954297</td>\n",
       "      <td>0.983674</td>\n",
       "      <td>0.997162</td>\n",
       "      <td>1.000000</td>\n",
       "      <td>0.980200</td>\n",
       "      <td>0.995400</td>\n",
       "      <td>0.994980</td>\n",
       "      <td>0.998742</td>\n",
       "      <td>0.998484</td>\n",
       "      <td>0.988494</td>\n",
       "      <td>0.844848</td>\n",
       "      <td>121012.250000</td>\n",
       "    </tr>\n",
       "  </tbody>\n",
       "</table>\n",
       "</div>"
      ],
      "text/plain": [
       "                  id          cont1          cont2          cont3  \\\n",
       "count  188318.000000  188318.000000  188318.000000  188318.000000   \n",
       "mean   294135.982561       0.493861       0.507188       0.498918   \n",
       "std    169336.084867       0.187640       0.207202       0.202105   \n",
       "min         1.000000       0.000016       0.001149       0.002634   \n",
       "25%    147748.250000       0.346090       0.358319       0.336963   \n",
       "50%    294539.500000       0.475784       0.555782       0.527991   \n",
       "75%    440680.500000       0.623912       0.681761       0.634224   \n",
       "max    587633.000000       0.984975       0.862654       0.944251   \n",
       "\n",
       "               cont4          cont5          cont6          cont7  \\\n",
       "count  188318.000000  188318.000000  188318.000000  188318.000000   \n",
       "mean        0.491812       0.487428       0.490945       0.484970   \n",
       "std         0.211292       0.209027       0.205273       0.178450   \n",
       "min         0.176921       0.281143       0.012683       0.069503   \n",
       "25%         0.327354       0.281143       0.336105       0.350175   \n",
       "50%         0.452887       0.422268       0.440945       0.438285   \n",
       "75%         0.652072       0.643315       0.655021       0.591045   \n",
       "max         0.954297       0.983674       0.997162       1.000000   \n",
       "\n",
       "               cont8          cont9         cont10         cont11  \\\n",
       "count  188318.000000  188318.000000  188318.000000  188318.000000   \n",
       "mean        0.486437       0.485506       0.498066       0.493511   \n",
       "std         0.199370       0.181660       0.185877       0.209737   \n",
       "min         0.236880       0.000080       0.000000       0.035321   \n",
       "25%         0.312800       0.358970       0.364580       0.310961   \n",
       "50%         0.441060       0.441450       0.461190       0.457203   \n",
       "75%         0.623580       0.566820       0.614590       0.678924   \n",
       "max         0.980200       0.995400       0.994980       0.998742   \n",
       "\n",
       "              cont12         cont13         cont14           loss  \n",
       "count  188318.000000  188318.000000  188318.000000  188318.000000  \n",
       "mean        0.493150       0.493138       0.495717    3037.337686  \n",
       "std         0.209427       0.212777       0.222488    2904.086186  \n",
       "min         0.036232       0.000228       0.179722       0.670000  \n",
       "25%         0.311661       0.315758       0.294610    1204.460000  \n",
       "50%         0.462286       0.363547       0.407403    2115.570000  \n",
       "75%         0.675759       0.689974       0.724623    3864.045000  \n",
       "max         0.998484       0.988494       0.844848  121012.250000  "
      ]
     },
     "execution_count": 14,
     "metadata": {},
     "output_type": "execute_result"
    }
   ],
   "source": [
    "df_insurance.describe()"
   ]
  },
  {
   "cell_type": "markdown",
   "metadata": {
    "colab_type": "text",
    "id": "mBM7TYbhxwIF"
   },
   "source": [
    "### 2b)-Count features\n",
    "\n",
    "Only for contineous features"
   ]
  },
  {
   "cell_type": "code",
   "execution_count": 15,
   "metadata": {
    "colab": {},
    "colab_type": "code",
    "id": "yWHIqQkMxhGU"
   },
   "outputs": [],
   "source": [
    "contFeatureslist = []\n",
    "for colName,x in df_insurance.iloc[1,:].iteritems():\n",
    "    #print(x)\n",
    "    if(not str(x).isalpha()):\n",
    "        contFeatureslist.append(colName)"
   ]
  },
  {
   "cell_type": "code",
   "execution_count": 16,
   "metadata": {
    "colab": {
     "base_uri": "https://localhost:8080/",
     "height": 34
    },
    "colab_type": "code",
    "id": "e6CcvwUayAdN",
    "outputId": "40a1e2e5-3ff0-44fa-abc2-a7e514e1fdaf"
   },
   "outputs": [
    {
     "name": "stdout",
     "output_type": "stream",
     "text": [
      "['id', 'cont1', 'cont2', 'cont3', 'cont4', 'cont5', 'cont6', 'cont7', 'cont8', 'cont9', 'cont10', 'cont11', 'cont12', 'cont13', 'cont14', 'loss']\n"
     ]
    }
   ],
   "source": [
    "print(contFeatureslist)"
   ]
  },
  {
   "cell_type": "markdown",
   "metadata": {
    "colab_type": "text",
    "id": "jai-6gs60L7n"
   },
   "source": [
    "### 2c)- Data type"
   ]
  },
  {
   "cell_type": "code",
   "execution_count": 17,
   "metadata": {
    "colab": {
     "base_uri": "https://localhost:8080/",
     "height": 1000
    },
    "colab_type": "code",
    "id": "pkBKJ1w6yM7n",
    "outputId": "6986fcdd-f10b-40fe-a90c-9ea4e399b501"
   },
   "outputs": [
    {
     "data": {
      "text/html": [
       "<div>\n",
       "<style scoped>\n",
       "    .dataframe tbody tr th:only-of-type {\n",
       "        vertical-align: middle;\n",
       "    }\n",
       "\n",
       "    .dataframe tbody tr th {\n",
       "        vertical-align: top;\n",
       "    }\n",
       "\n",
       "    .dataframe thead th {\n",
       "        text-align: right;\n",
       "    }\n",
       "</style>\n",
       "<table border=\"1\" class=\"dataframe\">\n",
       "  <thead>\n",
       "    <tr style=\"text-align: right;\">\n",
       "      <th></th>\n",
       "      <th>Data Type</th>\n",
       "    </tr>\n",
       "  </thead>\n",
       "  <tbody>\n",
       "    <tr>\n",
       "      <th>id</th>\n",
       "      <td>int64</td>\n",
       "    </tr>\n",
       "    <tr>\n",
       "      <th>cont13</th>\n",
       "      <td>float64</td>\n",
       "    </tr>\n",
       "    <tr>\n",
       "      <th>cont12</th>\n",
       "      <td>float64</td>\n",
       "    </tr>\n",
       "    <tr>\n",
       "      <th>cont11</th>\n",
       "      <td>float64</td>\n",
       "    </tr>\n",
       "    <tr>\n",
       "      <th>cont10</th>\n",
       "      <td>float64</td>\n",
       "    </tr>\n",
       "    <tr>\n",
       "      <th>cont9</th>\n",
       "      <td>float64</td>\n",
       "    </tr>\n",
       "    <tr>\n",
       "      <th>cont8</th>\n",
       "      <td>float64</td>\n",
       "    </tr>\n",
       "    <tr>\n",
       "      <th>cont7</th>\n",
       "      <td>float64</td>\n",
       "    </tr>\n",
       "    <tr>\n",
       "      <th>cont6</th>\n",
       "      <td>float64</td>\n",
       "    </tr>\n",
       "    <tr>\n",
       "      <th>cont5</th>\n",
       "      <td>float64</td>\n",
       "    </tr>\n",
       "    <tr>\n",
       "      <th>cont4</th>\n",
       "      <td>float64</td>\n",
       "    </tr>\n",
       "    <tr>\n",
       "      <th>cont3</th>\n",
       "      <td>float64</td>\n",
       "    </tr>\n",
       "    <tr>\n",
       "      <th>cont2</th>\n",
       "      <td>float64</td>\n",
       "    </tr>\n",
       "    <tr>\n",
       "      <th>cont1</th>\n",
       "      <td>float64</td>\n",
       "    </tr>\n",
       "    <tr>\n",
       "      <th>cont14</th>\n",
       "      <td>float64</td>\n",
       "    </tr>\n",
       "    <tr>\n",
       "      <th>loss</th>\n",
       "      <td>float64</td>\n",
       "    </tr>\n",
       "    <tr>\n",
       "      <th>cat16</th>\n",
       "      <td>object</td>\n",
       "    </tr>\n",
       "    <tr>\n",
       "      <th>cat100</th>\n",
       "      <td>object</td>\n",
       "    </tr>\n",
       "    <tr>\n",
       "      <th>cat99</th>\n",
       "      <td>object</td>\n",
       "    </tr>\n",
       "    <tr>\n",
       "      <th>cat98</th>\n",
       "      <td>object</td>\n",
       "    </tr>\n",
       "    <tr>\n",
       "      <th>cat97</th>\n",
       "      <td>object</td>\n",
       "    </tr>\n",
       "    <tr>\n",
       "      <th>cat96</th>\n",
       "      <td>object</td>\n",
       "    </tr>\n",
       "    <tr>\n",
       "      <th>cat95</th>\n",
       "      <td>object</td>\n",
       "    </tr>\n",
       "    <tr>\n",
       "      <th>cat94</th>\n",
       "      <td>object</td>\n",
       "    </tr>\n",
       "    <tr>\n",
       "      <th>cat93</th>\n",
       "      <td>object</td>\n",
       "    </tr>\n",
       "    <tr>\n",
       "      <th>cat92</th>\n",
       "      <td>object</td>\n",
       "    </tr>\n",
       "    <tr>\n",
       "      <th>cat91</th>\n",
       "      <td>object</td>\n",
       "    </tr>\n",
       "    <tr>\n",
       "      <th>cat90</th>\n",
       "      <td>object</td>\n",
       "    </tr>\n",
       "    <tr>\n",
       "      <th>cat89</th>\n",
       "      <td>object</td>\n",
       "    </tr>\n",
       "    <tr>\n",
       "      <th>cat88</th>\n",
       "      <td>object</td>\n",
       "    </tr>\n",
       "    <tr>\n",
       "      <th>...</th>\n",
       "      <td>...</td>\n",
       "    </tr>\n",
       "    <tr>\n",
       "      <th>cat44</th>\n",
       "      <td>object</td>\n",
       "    </tr>\n",
       "    <tr>\n",
       "      <th>cat45</th>\n",
       "      <td>object</td>\n",
       "    </tr>\n",
       "    <tr>\n",
       "      <th>cat71</th>\n",
       "      <td>object</td>\n",
       "    </tr>\n",
       "    <tr>\n",
       "      <th>cat70</th>\n",
       "      <td>object</td>\n",
       "    </tr>\n",
       "    <tr>\n",
       "      <th>cat69</th>\n",
       "      <td>object</td>\n",
       "    </tr>\n",
       "    <tr>\n",
       "      <th>cat68</th>\n",
       "      <td>object</td>\n",
       "    </tr>\n",
       "    <tr>\n",
       "      <th>cat67</th>\n",
       "      <td>object</td>\n",
       "    </tr>\n",
       "    <tr>\n",
       "      <th>cat66</th>\n",
       "      <td>object</td>\n",
       "    </tr>\n",
       "    <tr>\n",
       "      <th>cat14</th>\n",
       "      <td>object</td>\n",
       "    </tr>\n",
       "    <tr>\n",
       "      <th>cat64</th>\n",
       "      <td>object</td>\n",
       "    </tr>\n",
       "    <tr>\n",
       "      <th>cat63</th>\n",
       "      <td>object</td>\n",
       "    </tr>\n",
       "    <tr>\n",
       "      <th>cat62</th>\n",
       "      <td>object</td>\n",
       "    </tr>\n",
       "    <tr>\n",
       "      <th>cat61</th>\n",
       "      <td>object</td>\n",
       "    </tr>\n",
       "    <tr>\n",
       "      <th>cat60</th>\n",
       "      <td>object</td>\n",
       "    </tr>\n",
       "    <tr>\n",
       "      <th>cat15</th>\n",
       "      <td>object</td>\n",
       "    </tr>\n",
       "    <tr>\n",
       "      <th>cat59</th>\n",
       "      <td>object</td>\n",
       "    </tr>\n",
       "    <tr>\n",
       "      <th>cat57</th>\n",
       "      <td>object</td>\n",
       "    </tr>\n",
       "    <tr>\n",
       "      <th>cat56</th>\n",
       "      <td>object</td>\n",
       "    </tr>\n",
       "    <tr>\n",
       "      <th>cat55</th>\n",
       "      <td>object</td>\n",
       "    </tr>\n",
       "    <tr>\n",
       "      <th>cat54</th>\n",
       "      <td>object</td>\n",
       "    </tr>\n",
       "    <tr>\n",
       "      <th>cat53</th>\n",
       "      <td>object</td>\n",
       "    </tr>\n",
       "    <tr>\n",
       "      <th>cat52</th>\n",
       "      <td>object</td>\n",
       "    </tr>\n",
       "    <tr>\n",
       "      <th>cat51</th>\n",
       "      <td>object</td>\n",
       "    </tr>\n",
       "    <tr>\n",
       "      <th>cat50</th>\n",
       "      <td>object</td>\n",
       "    </tr>\n",
       "    <tr>\n",
       "      <th>cat49</th>\n",
       "      <td>object</td>\n",
       "    </tr>\n",
       "    <tr>\n",
       "      <th>cat48</th>\n",
       "      <td>object</td>\n",
       "    </tr>\n",
       "    <tr>\n",
       "      <th>cat47</th>\n",
       "      <td>object</td>\n",
       "    </tr>\n",
       "    <tr>\n",
       "      <th>cat46</th>\n",
       "      <td>object</td>\n",
       "    </tr>\n",
       "    <tr>\n",
       "      <th>cat58</th>\n",
       "      <td>object</td>\n",
       "    </tr>\n",
       "    <tr>\n",
       "      <th>cat65</th>\n",
       "      <td>object</td>\n",
       "    </tr>\n",
       "  </tbody>\n",
       "</table>\n",
       "<p>132 rows × 1 columns</p>\n",
       "</div>"
      ],
      "text/plain": [
       "       Data Type\n",
       "id         int64\n",
       "cont13   float64\n",
       "cont12   float64\n",
       "cont11   float64\n",
       "cont10   float64\n",
       "cont9    float64\n",
       "cont8    float64\n",
       "cont7    float64\n",
       "cont6    float64\n",
       "cont5    float64\n",
       "cont4    float64\n",
       "cont3    float64\n",
       "cont2    float64\n",
       "cont1    float64\n",
       "cont14   float64\n",
       "loss     float64\n",
       "cat16     object\n",
       "cat100    object\n",
       "cat99     object\n",
       "cat98     object\n",
       "cat97     object\n",
       "cat96     object\n",
       "cat95     object\n",
       "cat94     object\n",
       "cat93     object\n",
       "cat92     object\n",
       "cat91     object\n",
       "cat90     object\n",
       "cat89     object\n",
       "cat88     object\n",
       "...          ...\n",
       "cat44     object\n",
       "cat45     object\n",
       "cat71     object\n",
       "cat70     object\n",
       "cat69     object\n",
       "cat68     object\n",
       "cat67     object\n",
       "cat66     object\n",
       "cat14     object\n",
       "cat64     object\n",
       "cat63     object\n",
       "cat62     object\n",
       "cat61     object\n",
       "cat60     object\n",
       "cat15     object\n",
       "cat59     object\n",
       "cat57     object\n",
       "cat56     object\n",
       "cat55     object\n",
       "cat54     object\n",
       "cat53     object\n",
       "cat52     object\n",
       "cat51     object\n",
       "cat50     object\n",
       "cat49     object\n",
       "cat48     object\n",
       "cat47     object\n",
       "cat46     object\n",
       "cat58     object\n",
       "cat65     object\n",
       "\n",
       "[132 rows x 1 columns]"
      ]
     },
     "execution_count": 17,
     "metadata": {},
     "output_type": "execute_result"
    }
   ],
   "source": [
    "# Checking all variables with their data-type\n",
    "def _tbl_dtype(dataset):\n",
    "    sum_dtype = pd.DataFrame(dataset.dtypes).sort_values(0).rename(columns = {0:'Data Type'})\n",
    "    return sum_dtype\n",
    "\n",
    "table_dtype = _tbl_dtype(df_insurance)\n",
    "table_dtype"
   ]
  },
  {
   "cell_type": "code",
   "execution_count": 18,
   "metadata": {
    "colab": {
     "base_uri": "https://localhost:8080/",
     "height": 1000
    },
    "colab_type": "code",
    "id": "o3GVCF9D_Qja",
    "outputId": "b4723557-c679-4929-a97f-858e92203100"
   },
   "outputs": [
    {
     "data": {
      "text/plain": [
       "cat1        2\n",
       "cat2        2\n",
       "cat3        2\n",
       "cat4        2\n",
       "cat5        2\n",
       "cat6        2\n",
       "cat7        2\n",
       "cat8        2\n",
       "cat9        2\n",
       "cat10       2\n",
       "cat11       2\n",
       "cat12       2\n",
       "cat13       2\n",
       "cat14       2\n",
       "cat15       2\n",
       "cat16       2\n",
       "cat17       2\n",
       "cat18       2\n",
       "cat19       2\n",
       "cat20       2\n",
       "cat21       2\n",
       "cat22       2\n",
       "cat23       2\n",
       "cat24       2\n",
       "cat25       2\n",
       "cat26       2\n",
       "cat27       2\n",
       "cat28       2\n",
       "cat29       2\n",
       "cat30       2\n",
       "         ... \n",
       "cat87       4\n",
       "cat88       4\n",
       "cat89       8\n",
       "cat90       7\n",
       "cat91       8\n",
       "cat92       7\n",
       "cat93       5\n",
       "cat94       7\n",
       "cat95       5\n",
       "cat96       8\n",
       "cat97       7\n",
       "cat98       5\n",
       "cat99      16\n",
       "cat100     15\n",
       "cat101     19\n",
       "cat102      9\n",
       "cat103     13\n",
       "cat104     17\n",
       "cat105     20\n",
       "cat106     17\n",
       "cat107     20\n",
       "cat108     11\n",
       "cat109     84\n",
       "cat110    131\n",
       "cat111     16\n",
       "cat112     51\n",
       "cat113     61\n",
       "cat114     19\n",
       "cat115     23\n",
       "cat116    326\n",
       "Length: 116, dtype: int64"
      ]
     },
     "execution_count": 18,
     "metadata": {},
     "output_type": "execute_result"
    }
   ],
   "source": [
    "# Checking unique categorical variables\n",
    "df_insurance.select_dtypes('object').apply(pd.Series.nunique, axis = 0)"
   ]
  },
  {
   "cell_type": "markdown",
   "metadata": {
    "colab_type": "text",
    "id": "C8gerGf2zTku"
   },
   "source": [
    "# 3) EDA"
   ]
  },
  {
   "cell_type": "markdown",
   "metadata": {
    "colab_type": "text",
    "id": "ZCgRRITG_aGy"
   },
   "source": [
    "### 3.1)-Missing values check"
   ]
  },
  {
   "cell_type": "code",
   "execution_count": 19,
   "metadata": {
    "colab": {},
    "colab_type": "code",
    "id": "n1RvEnYV_c1s"
   },
   "outputs": [],
   "source": [
    "def find_missing_values(df, columns):\n",
    "    \"\"\"\n",
    "    Finds number of rows where certain columns are missing values.\n",
    "    ::param_df:: = target dataframe\n",
    "    ::param_columns:: = list of columns\n",
    "    \"\"\"\n",
    "    missing_vals = {}\n",
    "    print(\"Number of missing or NaN values for each column:\")\n",
    "    df_length = len(df)\n",
    "    for column in columns:\n",
    "        total_column_values = df[column].value_counts().sum()\n",
    "        missing_vals[column] = df_length-total_column_values\n",
    "        #missing_vals.append(str(column)+ \" column has {} missing or NaN values.\".format())\n",
    "    return missing_vals"
   ]
  },
  {
   "cell_type": "code",
   "execution_count": 20,
   "metadata": {
    "colab": {
     "base_uri": "https://localhost:8080/",
     "height": 1000
    },
    "colab_type": "code",
    "id": "AYxMcxKF_hQ7",
    "outputId": "620b1604-437d-495d-83bf-61194c573c2e"
   },
   "outputs": [
    {
     "name": "stdout",
     "output_type": "stream",
     "text": [
      "Number of missing or NaN values for each column:\n"
     ]
    },
    {
     "data": {
      "text/plain": [
       "{'id': 0,\n",
       " 'cat1': 0,\n",
       " 'cat2': 0,\n",
       " 'cat3': 0,\n",
       " 'cat4': 0,\n",
       " 'cat5': 0,\n",
       " 'cat6': 0,\n",
       " 'cat7': 0,\n",
       " 'cat8': 0,\n",
       " 'cat9': 0,\n",
       " 'cat10': 0,\n",
       " 'cat11': 0,\n",
       " 'cat12': 0,\n",
       " 'cat13': 0,\n",
       " 'cat14': 0,\n",
       " 'cat15': 0,\n",
       " 'cat16': 0,\n",
       " 'cat17': 0,\n",
       " 'cat18': 0,\n",
       " 'cat19': 0,\n",
       " 'cat20': 0,\n",
       " 'cat21': 0,\n",
       " 'cat22': 0,\n",
       " 'cat23': 0,\n",
       " 'cat24': 0,\n",
       " 'cat25': 0,\n",
       " 'cat26': 0,\n",
       " 'cat27': 0,\n",
       " 'cat28': 0,\n",
       " 'cat29': 0,\n",
       " 'cat30': 0,\n",
       " 'cat31': 0,\n",
       " 'cat32': 0,\n",
       " 'cat33': 0,\n",
       " 'cat34': 0,\n",
       " 'cat35': 0,\n",
       " 'cat36': 0,\n",
       " 'cat37': 0,\n",
       " 'cat38': 0,\n",
       " 'cat39': 0,\n",
       " 'cat40': 0,\n",
       " 'cat41': 0,\n",
       " 'cat42': 0,\n",
       " 'cat43': 0,\n",
       " 'cat44': 0,\n",
       " 'cat45': 0,\n",
       " 'cat46': 0,\n",
       " 'cat47': 0,\n",
       " 'cat48': 0,\n",
       " 'cat49': 0,\n",
       " 'cat50': 0,\n",
       " 'cat51': 0,\n",
       " 'cat52': 0,\n",
       " 'cat53': 0,\n",
       " 'cat54': 0,\n",
       " 'cat55': 0,\n",
       " 'cat56': 0,\n",
       " 'cat57': 0,\n",
       " 'cat58': 0,\n",
       " 'cat59': 0,\n",
       " 'cat60': 0,\n",
       " 'cat61': 0,\n",
       " 'cat62': 0,\n",
       " 'cat63': 0,\n",
       " 'cat64': 0,\n",
       " 'cat65': 0,\n",
       " 'cat66': 0,\n",
       " 'cat67': 0,\n",
       " 'cat68': 0,\n",
       " 'cat69': 0,\n",
       " 'cat70': 0,\n",
       " 'cat71': 0,\n",
       " 'cat72': 0,\n",
       " 'cat73': 0,\n",
       " 'cat74': 0,\n",
       " 'cat75': 0,\n",
       " 'cat76': 0,\n",
       " 'cat77': 0,\n",
       " 'cat78': 0,\n",
       " 'cat79': 0,\n",
       " 'cat80': 0,\n",
       " 'cat81': 0,\n",
       " 'cat82': 0,\n",
       " 'cat83': 0,\n",
       " 'cat84': 0,\n",
       " 'cat85': 0,\n",
       " 'cat86': 0,\n",
       " 'cat87': 0,\n",
       " 'cat88': 0,\n",
       " 'cat89': 0,\n",
       " 'cat90': 0,\n",
       " 'cat91': 0,\n",
       " 'cat92': 0,\n",
       " 'cat93': 0,\n",
       " 'cat94': 0,\n",
       " 'cat95': 0,\n",
       " 'cat96': 0,\n",
       " 'cat97': 0,\n",
       " 'cat98': 0,\n",
       " 'cat99': 0,\n",
       " 'cat100': 0,\n",
       " 'cat101': 0,\n",
       " 'cat102': 0,\n",
       " 'cat103': 0,\n",
       " 'cat104': 0,\n",
       " 'cat105': 0,\n",
       " 'cat106': 0,\n",
       " 'cat107': 0,\n",
       " 'cat108': 0,\n",
       " 'cat109': 0,\n",
       " 'cat110': 0,\n",
       " 'cat111': 0,\n",
       " 'cat112': 0,\n",
       " 'cat113': 0,\n",
       " 'cat114': 0,\n",
       " 'cat115': 0,\n",
       " 'cat116': 0,\n",
       " 'cont1': 0,\n",
       " 'cont2': 0,\n",
       " 'cont3': 0,\n",
       " 'cont4': 0,\n",
       " 'cont5': 0,\n",
       " 'cont6': 0,\n",
       " 'cont7': 0,\n",
       " 'cont8': 0,\n",
       " 'cont9': 0,\n",
       " 'cont10': 0,\n",
       " 'cont11': 0,\n",
       " 'cont12': 0,\n",
       " 'cont13': 0,\n",
       " 'cont14': 0,\n",
       " 'loss': 0}"
      ]
     },
     "execution_count": 20,
     "metadata": {},
     "output_type": "execute_result"
    }
   ],
   "source": [
    "missing_values = find_missing_values(df_insurance, columns=df_insurance.columns)\n",
    "missing_values"
   ]
  },
  {
   "cell_type": "code",
   "execution_count": 21,
   "metadata": {
    "colab": {},
    "colab_type": "code",
    "id": "OAVePccq_mcd"
   },
   "outputs": [],
   "source": [
    "#import missingno\n",
    "#missingno.matrix(df_insurance, figsize = (30,10))"
   ]
  },
  {
   "cell_type": "code",
   "execution_count": 22,
   "metadata": {
    "colab": {
     "base_uri": "https://localhost:8080/",
     "height": 34
    },
    "colab_type": "code",
    "id": "NF78f8sF7f4y",
    "outputId": "cf4d5322-f3f7-433a-a228-0e690ce5f95c"
   },
   "outputs": [
    {
     "name": "stdout",
     "output_type": "stream",
     "text": [
      "Number of missing values 0\n"
     ]
    }
   ],
   "source": [
    "print(\"Number of missing values\",df_insurance.isnull().sum().sum())"
   ]
  },
  {
   "cell_type": "markdown",
   "metadata": {
    "colab_type": "text",
    "id": "t7NUKYl6_t6u"
   },
   "source": [
    "### 3.2)-Duplicate values"
   ]
  },
  {
   "cell_type": "code",
   "execution_count": 23,
   "metadata": {
    "colab": {
     "base_uri": "https://localhost:8080/",
     "height": 34
    },
    "colab_type": "code",
    "id": "dzw3IGDB_wG_",
    "outputId": "3dbe148f-ef87-49a1-c361-bae4f9feaac4"
   },
   "outputs": [
    {
     "data": {
      "text/plain": [
       "0"
      ]
     },
     "execution_count": 23,
     "metadata": {},
     "output_type": "execute_result"
    }
   ],
   "source": [
    "df_insurance.duplicated().sum()"
   ]
  },
  {
   "cell_type": "markdown",
   "metadata": {
    "colab_type": "text",
    "id": "_OBtfxg-_3nK"
   },
   "source": [
    "### 3.3)-Finding outliers"
   ]
  },
  {
   "cell_type": "code",
   "execution_count": 24,
   "metadata": {
    "colab": {
     "base_uri": "https://localhost:8080/",
     "height": 84
    },
    "colab_type": "code",
    "id": "TFjnuEA0_59G",
    "outputId": "4557573f-b166-4a5e-d66d-fbf54276f394"
   },
   "outputs": [
    {
     "name": "stdout",
     "output_type": "stream",
     "text": [
      "Percentage of low: 0.00%\n",
      "Percentage of high: 1.87%\n",
      "Low value: -5674.92\n",
      "High value: 11749.60\n"
     ]
    }
   ],
   "source": [
    "def _zoom_3sigma(col, dataset, dataset_apl):\n",
    "    '''\n",
    "    col: Data column name\n",
    "    dataset: The original data table is used to calculate about 3 sigma\n",
    "    dataset_apl: New data table applies about 3 sigma taken from the dataset..\n",
    "    '''\n",
    "    xs = dataset[col]\n",
    "    mu = xs.mean()\n",
    "    sigma = xs.std()\n",
    "    low =  mu - 3*sigma\n",
    "#     low =  0 if low < 0 else low\n",
    "    high = mu + 3*sigma\n",
    "    \n",
    "    def _value(x):\n",
    "        if x < low: return low\n",
    "        elif x > high: return high\n",
    "        else: return x\n",
    "    xapl = dataset_apl[col]    \n",
    "    xnew = list(map(lambda x: _value(x), xapl))\n",
    "    n_low = len([i for i in xnew if i == low])\n",
    "    n_high = len([i for i in xnew if i == high])\n",
    "    n = len(xapl)\n",
    "    print('Percentage of low: {:.2f}{}'.format(100*n_low/n, '%'))\n",
    "    print('Percentage of high: {:.2f}{}'.format(100*n_high/n, '%'))\n",
    "    print('Low value: {:.2f}'.format(low))\n",
    "    print('High value: {:.2f}'.format(high))\n",
    "    return xnew\n",
    "\n",
    "# Check with FLAG_MOBIL variable\n",
    "x = _zoom_3sigma('loss', df_insurance, df_insurance)"
   ]
  },
  {
   "cell_type": "markdown",
   "metadata": {
    "colab_type": "text",
    "id": "_TrMGhf1zWNu"
   },
   "source": [
    "### 3.4)-Box plots for continuous features"
   ]
  },
  {
   "cell_type": "code",
   "execution_count": 25,
   "metadata": {
    "colab": {},
    "colab_type": "code",
    "id": "1dylW-q2yX-5"
   },
   "outputs": [],
   "source": [
    "contFeatureslist.remove(\"id\")\n",
    "contFeatureslist.remove(\"loss\")"
   ]
  },
  {
   "cell_type": "code",
   "execution_count": 26,
   "metadata": {
    "colab": {
     "base_uri": "https://localhost:8080/",
     "height": 558
    },
    "colab_type": "code",
    "id": "htV_aKklzbt2",
    "outputId": "f0eadb8d-269d-45e5-82c0-a3b8cc494c49"
   },
   "outputs": [
    {
     "data": {
      "text/plain": [
       "<matplotlib.axes._subplots.AxesSubplot at 0x13ed4fb8748>"
      ]
     },
     "execution_count": 26,
     "metadata": {},
     "output_type": "execute_result"
    },
    {
     "data": {
      "image/png": "[encoded data removed]",
      "text/plain": [
       "<matplotlib.figure.Figure at 0x13ed4e8fcf8>"
      ]
     },
     "metadata": {
      "needs_background": "light"
     },
     "output_type": "display_data"
    }
   ],
   "source": [
    "plt.figure(figsize=(13,9))\n",
    "sns.boxplot(df_insurance[contFeatureslist])"
   ]
  },
  {
   "cell_type": "markdown",
   "metadata": {
    "colab_type": "text",
    "id": "U6r97T5g00mH"
   },
   "source": [
    "### 3.5)-Correlation between continuous features"
   ]
  },
  {
   "cell_type": "code",
   "execution_count": 27,
   "metadata": {
    "colab": {},
    "colab_type": "code",
    "id": "_S2XQ86Mzb9F"
   },
   "outputs": [],
   "source": [
    "# Include  target variable also to find correlation between features and target feature as well\n",
    "contFeatureslist.append(\"loss\")"
   ]
  },
  {
   "cell_type": "code",
   "execution_count": 28,
   "metadata": {
    "colab": {
     "base_uri": "https://localhost:8080/",
     "height": 541
    },
    "colab_type": "code",
    "id": "zRM8JcO5038j",
    "outputId": "4155c1b0-5a2e-4d68-ebd1-7233fcb8cf2e"
   },
   "outputs": [
    {
     "data": {
      "image/png": "[encoded data removed]",
      "text/plain": [
       "<matplotlib.figure.Figure at 0x13e800576d8>"
      ]
     },
     "metadata": {
      "needs_background": "light"
     },
     "output_type": "display_data"
    }
   ],
   "source": [
    "correlationMatrix = df_insurance[contFeatureslist].corr().abs()\n",
    "\n",
    "plt.subplots(figsize=(13, 9))\n",
    "sns.heatmap(correlationMatrix,annot=True)\n",
    "\n",
    "# Mask unimportant features\n",
    "sns.heatmap(correlationMatrix, mask=correlationMatrix < 1, cbar=False)\n",
    "plt.show()"
   ]
  },
  {
   "cell_type": "markdown",
   "metadata": {
    "colab_type": "text",
    "id": "edRv-eoN1XeQ"
   },
   "source": [
    "### 3.6)-Analysis of dep. feature i.e loss"
   ]
  },
  {
   "cell_type": "code",
   "execution_count": 29,
   "metadata": {
    "colab": {
     "base_uri": "https://localhost:8080/",
     "height": 572
    },
    "colab_type": "code",
    "id": "6Cp5UQYk09ZV",
    "outputId": "45e4e3d5-a9b5-4f76-c19e-d797c111797c"
   },
   "outputs": [
    {
     "data": {
      "text/plain": [
       "<matplotlib.axes._subplots.AxesSubplot at 0x13e82b85828>"
      ]
     },
     "execution_count": 29,
     "metadata": {},
     "output_type": "execute_result"
    },
    {
     "data": {
      "image/png": "[encoded data removed]",
      "text/plain": [
       "<matplotlib.figure.Figure at 0x13e800736d8>"
      ]
     },
     "metadata": {
      "needs_background": "light"
     },
     "output_type": "display_data"
    }
   ],
   "source": [
    "# making boxplot to seee how data is spread\n",
    "plt.figure(figsize=(13,9))\n",
    "sns.boxplot(df_insurance[\"loss\"])"
   ]
  },
  {
   "cell_type": "code",
   "execution_count": 30,
   "metadata": {
    "colab": {
     "base_uri": "https://localhost:8080/",
     "height": 572
    },
    "colab_type": "code",
    "id": "DW2i9JbC3LLh",
    "outputId": "642ea8c4-3694-466a-a577-4288e0175458"
   },
   "outputs": [
    {
     "data": {
      "text/plain": [
       "<matplotlib.axes._subplots.AxesSubplot at 0x13e805ba0f0>"
      ]
     },
     "execution_count": 30,
     "metadata": {},
     "output_type": "execute_result"
    },
    {
     "data": {
      "image/png": "[encoded data removed]",
      "text/plain": [
       "<matplotlib.figure.Figure at 0x13e82b85518>"
      ]
     },
     "metadata": {
      "needs_background": "light"
     },
     "output_type": "display_data"
    }
   ],
   "source": [
    "# distplot\n",
    "\n",
    "plt.figure(figsize=(13,9))\n",
    "sns.distplot(df_insurance[\"loss\"])"
   ]
  },
  {
   "cell_type": "code",
   "execution_count": 31,
   "metadata": {
    "colab": {
     "base_uri": "https://localhost:8080/",
     "height": 572
    },
    "colab_type": "code",
    "id": "W0HVqnuN23r7",
    "outputId": "51cf4bb3-91b9-49d0-bb9d-5c3bb0b36883"
   },
   "outputs": [
    {
     "data": {
      "text/plain": [
       "<matplotlib.axes._subplots.AxesSubplot at 0x13e82bf3e80>"
      ]
     },
     "execution_count": 31,
     "metadata": {},
     "output_type": "execute_result"
    },
    {
     "data": {
      "image/png": "[encoded data removed]",
      "text/plain": [
       "<matplotlib.figure.Figure at 0x13e82bf9588>"
      ]
     },
     "metadata": {
      "needs_background": "light"
     },
     "output_type": "display_data"
    }
   ],
   "source": [
    "# making dist. plot with log to counter this spread of data\n",
    "\n",
    "plt.figure(figsize=(13,9))\n",
    "sns.distplot(np.log1p(df_insurance[\"loss\"]))"
   ]
  },
  {
   "cell_type": "markdown",
   "metadata": {
    "colab_type": "text",
    "id": "oQ_NFFdI3Vvl"
   },
   "source": [
    "Much better ! \n",
    "\n",
    "got normal distribution by applying logarithm on loss function"
   ]
  },
  {
   "cell_type": "markdown",
   "metadata": {
    "colab_type": "text",
    "id": "7vFtLqS55XWl"
   },
   "source": [
    "### 3.7)-Checking total categories in data"
   ]
  },
  {
   "cell_type": "code",
   "execution_count": 32,
   "metadata": {
    "colab": {
     "base_uri": "https://localhost:8080/",
     "height": 34
    },
    "colab_type": "code",
    "id": "cOCpgtTB3Hwn",
    "outputId": "5aed3dcc-b0e5-428e-f640-cdbec6191738"
   },
   "outputs": [
    {
     "name": "stdout",
     "output_type": "stream",
     "text": [
      "Number of categories:  116\n"
     ]
    }
   ],
   "source": [
    "catCount = sum(str(x).isalpha() for x in df_insurance.iloc[1,:])\n",
    "print(\"Number of categories: \",catCount)"
   ]
  },
  {
   "cell_type": "code",
   "execution_count": 33,
   "metadata": {
    "colab": {},
    "colab_type": "code",
    "id": "8VvbdXRu6Nxx"
   },
   "outputs": [],
   "source": [
    "catFeatureslist = []\n",
    "for colName,x in df_insurance.iloc[1,:].iteritems():\n",
    "    #print(x)\n",
    "    if(str(x).isalpha()):\n",
    "        catFeatureslist.append(colName)"
   ]
  },
  {
   "cell_type": "code",
   "execution_count": 34,
   "metadata": {
    "colab": {
     "base_uri": "https://localhost:8080/",
     "height": 1000
    },
    "colab_type": "code",
    "id": "MTEnt8xv6Dgi",
    "outputId": "680ea2ee-ec89-4d03-aa35-9c96bed4a0cb"
   },
   "outputs": [
    {
     "name": "stdout",
     "output_type": "stream",
     "text": [
      "cat1        2\n",
      "cat2        2\n",
      "cat3        2\n",
      "cat4        2\n",
      "cat5        2\n",
      "cat6        2\n",
      "cat7        2\n",
      "cat8        2\n",
      "cat9        2\n",
      "cat10       2\n",
      "cat11       2\n",
      "cat12       2\n",
      "cat13       2\n",
      "cat14       2\n",
      "cat15       2\n",
      "cat16       2\n",
      "cat17       2\n",
      "cat18       2\n",
      "cat19       2\n",
      "cat20       2\n",
      "cat21       2\n",
      "cat22       2\n",
      "cat23       2\n",
      "cat24       2\n",
      "cat25       2\n",
      "cat26       2\n",
      "cat27       2\n",
      "cat28       2\n",
      "cat29       2\n",
      "cat30       2\n",
      "         ... \n",
      "cat87       4\n",
      "cat88       4\n",
      "cat89       8\n",
      "cat90       7\n",
      "cat91       8\n",
      "cat92       7\n",
      "cat93       5\n",
      "cat94       7\n",
      "cat95       5\n",
      "cat96       8\n",
      "cat97       7\n",
      "cat98       5\n",
      "cat99      16\n",
      "cat100     15\n",
      "cat101     19\n",
      "cat102      9\n",
      "cat103     13\n",
      "cat104     17\n",
      "cat105     20\n",
      "cat106     17\n",
      "cat107     20\n",
      "cat108     11\n",
      "cat109     84\n",
      "cat110    131\n",
      "cat111     16\n",
      "cat112     51\n",
      "cat113     61\n",
      "cat114     19\n",
      "cat115     23\n",
      "cat116    326\n",
      "Length: 116, dtype: int64\n"
     ]
    }
   ],
   "source": [
    "# unique values\n",
    "\n",
    "print(df_insurance[catFeatureslist].apply(pd.Series.nunique))"
   ]
  },
  {
   "cell_type": "markdown",
   "metadata": {
    "colab_type": "text",
    "id": "3GQ_VooC6uHr"
   },
   "source": [
    "### 3.8) Encoding categorical features\n",
    "Convert categorical string values to numeric values"
   ]
  },
  {
   "cell_type": "code",
   "execution_count": 35,
   "metadata": {
    "colab": {},
    "colab_type": "code",
    "id": "GZjFiHk-52yF"
   },
   "outputs": [],
   "source": [
    "from sklearn.preprocessing import LabelEncoder\n",
    "\n",
    "for cf1 in catFeatureslist:\n",
    "    le = LabelEncoder()\n",
    "    le.fit(df_insurance[cf1].unique())\n",
    "    df_insurance[cf1] = le.transform(df_insurance[cf1])"
   ]
  },
  {
   "cell_type": "code",
   "execution_count": 36,
   "metadata": {
    "colab": {
     "base_uri": "https://localhost:8080/",
     "height": 34
    },
    "colab_type": "code",
    "id": "I3TR9zwa6zlC",
    "outputId": "9c272373-b6e6-4987-c4da-f1fb0000d621"
   },
   "outputs": [
    {
     "data": {
      "text/plain": [
       "(188318, 132)"
      ]
     },
     "execution_count": 36,
     "metadata": {},
     "output_type": "execute_result"
    }
   ],
   "source": [
    "df_insurance.shape"
   ]
  },
  {
   "cell_type": "code",
   "execution_count": 37,
   "metadata": {
    "colab": {
     "base_uri": "https://localhost:8080/",
     "height": 244
    },
    "colab_type": "code",
    "id": "FLfyFGxI6zoA",
    "outputId": "7fb1ec48-0787-43c7-9bfe-72bcbef13b39"
   },
   "outputs": [
    {
     "data": {
      "text/html": [
       "<div>\n",
       "<style scoped>\n",
       "    .dataframe tbody tr th:only-of-type {\n",
       "        vertical-align: middle;\n",
       "    }\n",
       "\n",
       "    .dataframe tbody tr th {\n",
       "        vertical-align: top;\n",
       "    }\n",
       "\n",
       "    .dataframe thead th {\n",
       "        text-align: right;\n",
       "    }\n",
       "</style>\n",
       "<table border=\"1\" class=\"dataframe\">\n",
       "  <thead>\n",
       "    <tr style=\"text-align: right;\">\n",
       "      <th></th>\n",
       "      <th>id</th>\n",
       "      <th>cat1</th>\n",
       "      <th>cat2</th>\n",
       "      <th>cat3</th>\n",
       "      <th>cat4</th>\n",
       "      <th>cat5</th>\n",
       "      <th>cat6</th>\n",
       "      <th>cat7</th>\n",
       "      <th>cat8</th>\n",
       "      <th>cat9</th>\n",
       "      <th>...</th>\n",
       "      <th>cont6</th>\n",
       "      <th>cont7</th>\n",
       "      <th>cont8</th>\n",
       "      <th>cont9</th>\n",
       "      <th>cont10</th>\n",
       "      <th>cont11</th>\n",
       "      <th>cont12</th>\n",
       "      <th>cont13</th>\n",
       "      <th>cont14</th>\n",
       "      <th>loss</th>\n",
       "    </tr>\n",
       "  </thead>\n",
       "  <tbody>\n",
       "    <tr>\n",
       "      <th>0</th>\n",
       "      <td>1</td>\n",
       "      <td>0</td>\n",
       "      <td>1</td>\n",
       "      <td>0</td>\n",
       "      <td>1</td>\n",
       "      <td>0</td>\n",
       "      <td>0</td>\n",
       "      <td>0</td>\n",
       "      <td>0</td>\n",
       "      <td>1</td>\n",
       "      <td>...</td>\n",
       "      <td>0.718367</td>\n",
       "      <td>0.335060</td>\n",
       "      <td>0.30260</td>\n",
       "      <td>0.67135</td>\n",
       "      <td>0.83510</td>\n",
       "      <td>0.569745</td>\n",
       "      <td>0.594646</td>\n",
       "      <td>0.822493</td>\n",
       "      <td>0.714843</td>\n",
       "      <td>2213.18</td>\n",
       "    </tr>\n",
       "    <tr>\n",
       "      <th>1</th>\n",
       "      <td>2</td>\n",
       "      <td>0</td>\n",
       "      <td>1</td>\n",
       "      <td>0</td>\n",
       "      <td>0</td>\n",
       "      <td>0</td>\n",
       "      <td>0</td>\n",
       "      <td>0</td>\n",
       "      <td>0</td>\n",
       "      <td>1</td>\n",
       "      <td>...</td>\n",
       "      <td>0.438917</td>\n",
       "      <td>0.436585</td>\n",
       "      <td>0.60087</td>\n",
       "      <td>0.35127</td>\n",
       "      <td>0.43919</td>\n",
       "      <td>0.338312</td>\n",
       "      <td>0.366307</td>\n",
       "      <td>0.611431</td>\n",
       "      <td>0.304496</td>\n",
       "      <td>1283.60</td>\n",
       "    </tr>\n",
       "    <tr>\n",
       "      <th>2</th>\n",
       "      <td>5</td>\n",
       "      <td>0</td>\n",
       "      <td>1</td>\n",
       "      <td>0</td>\n",
       "      <td>0</td>\n",
       "      <td>1</td>\n",
       "      <td>0</td>\n",
       "      <td>0</td>\n",
       "      <td>0</td>\n",
       "      <td>1</td>\n",
       "      <td>...</td>\n",
       "      <td>0.289648</td>\n",
       "      <td>0.315545</td>\n",
       "      <td>0.27320</td>\n",
       "      <td>0.26076</td>\n",
       "      <td>0.32446</td>\n",
       "      <td>0.381398</td>\n",
       "      <td>0.373424</td>\n",
       "      <td>0.195709</td>\n",
       "      <td>0.774425</td>\n",
       "      <td>3005.09</td>\n",
       "    </tr>\n",
       "    <tr>\n",
       "      <th>3</th>\n",
       "      <td>10</td>\n",
       "      <td>1</td>\n",
       "      <td>1</td>\n",
       "      <td>0</td>\n",
       "      <td>1</td>\n",
       "      <td>0</td>\n",
       "      <td>0</td>\n",
       "      <td>0</td>\n",
       "      <td>0</td>\n",
       "      <td>1</td>\n",
       "      <td>...</td>\n",
       "      <td>0.440945</td>\n",
       "      <td>0.391128</td>\n",
       "      <td>0.31796</td>\n",
       "      <td>0.32128</td>\n",
       "      <td>0.44467</td>\n",
       "      <td>0.327915</td>\n",
       "      <td>0.321570</td>\n",
       "      <td>0.605077</td>\n",
       "      <td>0.602642</td>\n",
       "      <td>939.85</td>\n",
       "    </tr>\n",
       "    <tr>\n",
       "      <th>4</th>\n",
       "      <td>11</td>\n",
       "      <td>0</td>\n",
       "      <td>1</td>\n",
       "      <td>0</td>\n",
       "      <td>1</td>\n",
       "      <td>0</td>\n",
       "      <td>0</td>\n",
       "      <td>0</td>\n",
       "      <td>0</td>\n",
       "      <td>1</td>\n",
       "      <td>...</td>\n",
       "      <td>0.178193</td>\n",
       "      <td>0.247408</td>\n",
       "      <td>0.24564</td>\n",
       "      <td>0.22089</td>\n",
       "      <td>0.21230</td>\n",
       "      <td>0.204687</td>\n",
       "      <td>0.202213</td>\n",
       "      <td>0.246011</td>\n",
       "      <td>0.432606</td>\n",
       "      <td>2763.85</td>\n",
       "    </tr>\n",
       "  </tbody>\n",
       "</table>\n",
       "<p>5 rows × 132 columns</p>\n",
       "</div>"
      ],
      "text/plain": [
       "   id  cat1  cat2  cat3  cat4  cat5  cat6  cat7  cat8  cat9   ...     \\\n",
       "0   1     0     1     0     1     0     0     0     0     1   ...      \n",
       "1   2     0     1     0     0     0     0     0     0     1   ...      \n",
       "2   5     0     1     0     0     1     0     0     0     1   ...      \n",
       "3  10     1     1     0     1     0     0     0     0     1   ...      \n",
       "4  11     0     1     0     1     0     0     0     0     1   ...      \n",
       "\n",
       "      cont6     cont7    cont8    cont9   cont10    cont11    cont12  \\\n",
       "0  0.718367  0.335060  0.30260  0.67135  0.83510  0.569745  0.594646   \n",
       "1  0.438917  0.436585  0.60087  0.35127  0.43919  0.338312  0.366307   \n",
       "2  0.289648  0.315545  0.27320  0.26076  0.32446  0.381398  0.373424   \n",
       "3  0.440945  0.391128  0.31796  0.32128  0.44467  0.327915  0.321570   \n",
       "4  0.178193  0.247408  0.24564  0.22089  0.21230  0.204687  0.202213   \n",
       "\n",
       "     cont13    cont14     loss  \n",
       "0  0.822493  0.714843  2213.18  \n",
       "1  0.611431  0.304496  1283.60  \n",
       "2  0.195709  0.774425  3005.09  \n",
       "3  0.605077  0.602642   939.85  \n",
       "4  0.246011  0.432606  2763.85  \n",
       "\n",
       "[5 rows x 132 columns]"
      ]
     },
     "execution_count": 37,
     "metadata": {},
     "output_type": "execute_result"
    }
   ],
   "source": [
    "df_insurance.head()"
   ]
  },
  {
   "cell_type": "markdown",
   "metadata": {
    "colab_type": "text",
    "id": "Fqs9hIc671Ji"
   },
   "source": [
    "### 3.9)-Analyzing feature categories and their level\n",
    "\n",
    "i.e level 2 \n",
    "- levl 5 or more . It shows how many classes are their in that specific feature"
   ]
  },
  {
   "cell_type": "code",
   "execution_count": 38,
   "metadata": {
    "colab": {
     "base_uri": "https://localhost:8080/",
     "height": 34
    },
    "colab_type": "code",
    "id": "fqLp-wcc6zrE",
    "outputId": "626a0822-edfb-4822-9541-a162b0295261"
   },
   "outputs": [
    {
     "data": {
      "text/plain": [
       "44"
      ]
     },
     "execution_count": 38,
     "metadata": {},
     "output_type": "execute_result"
    }
   ],
   "source": [
    "sum(df_insurance[catFeatureslist].apply(pd.Series.nunique) > 2)"
   ]
  },
  {
   "cell_type": "code",
   "execution_count": 39,
   "metadata": {
    "colab": {},
    "colab_type": "code",
    "id": "GKGVzg9S6ztz"
   },
   "outputs": [],
   "source": [
    "#  levels between 5-10\n",
    "\n",
    "filterG5_10 = list((df_insurance[catFeatureslist].apply(pd.Series.nunique) > 5) & \n",
    "                (df_insurance[catFeatureslist].apply(pd.Series.nunique) < 10))"
   ]
  },
  {
   "cell_type": "code",
   "execution_count": 40,
   "metadata": {
    "colab": {},
    "colab_type": "code",
    "id": "0fCRjm8L6zwd"
   },
   "outputs": [],
   "source": [
    "catFeaturesG5_10List = [i for (i, v) in zip(catFeatureslist, filterG5_10) if v]"
   ]
  },
  {
   "cell_type": "code",
   "execution_count": 41,
   "metadata": {
    "colab": {
     "base_uri": "https://localhost:8080/",
     "height": 34
    },
    "colab_type": "code",
    "id": "kvLn191u8XTr",
    "outputId": "fccaca2f-d58e-49da-f31f-12baa0326753"
   },
   "outputs": [
    {
     "data": {
      "text/plain": [
       "8"
      ]
     },
     "execution_count": 41,
     "metadata": {},
     "output_type": "execute_result"
    }
   ],
   "source": [
    "len(catFeaturesG5_10List)"
   ]
  },
  {
   "cell_type": "code",
   "execution_count": 42,
   "metadata": {
    "colab": {
     "base_uri": "https://localhost:8080/",
     "height": 1000
    },
    "colab_type": "code",
    "id": "h3CuF64V8ZLx",
    "outputId": "975948c7-5ec7-40db-ba12-03861333908b"
   },
   "outputs": [
    {
     "data": {
      "image/png": "[encoded data removed]",
      "text/plain": [
       "<matplotlib.figure.Figure at 0x13ed4fdd080>"
      ]
     },
     "metadata": {
      "needs_background": "light"
     },
     "output_type": "display_data"
    },
    {
     "data": {
      "image/png": "[encoded data removed]",
      "text/plain": [
       "<matplotlib.figure.Figure at 0x13e806f5b70>"
      ]
     },
     "metadata": {
      "needs_background": "light"
     },
     "output_type": "display_data"
    },
    {
     "data": {
      "image/png": "[encoded data removed]",
      "text/plain": [
       "<matplotlib.figure.Figure at 0x13e833e7b38>"
      ]
     },
     "metadata": {
      "needs_background": "light"
     },
     "output_type": "display_data"
    },
    {
     "data": {
      "image/png": "[encoded data removed]",
      "text/plain": [
       "<matplotlib.figure.Figure at 0x13e83cdecc0>"
      ]
     },
     "metadata": {
      "needs_background": "light"
     },
     "output_type": "display_data"
    }
   ],
   "source": [
    "ncol = 2\n",
    "nrow = 4\n",
    "try:\n",
    "    for rowIndex in range(nrow):\n",
    "        f,axList = plt.subplots(nrows=1,ncols=ncol,sharey=True,figsize=(13, 9))\n",
    "        features = catFeaturesG5_10List[rowIndex*ncol:ncol*(rowIndex+1)]\n",
    "        \n",
    "        for axIndex in range(len(axList)):\n",
    "            sns.boxplot(x=features[axIndex], y=\"loss\", data=df_insurance, ax=axList[axIndex])\n",
    "                        \n",
    "            # With original scale it is hard to visualize because of outliers\n",
    "            axList[axIndex].set(yscale=\"log\")\n",
    "            axList[axIndex].set(xlabel=features[axIndex], ylabel='log loss')\n",
    "except IndexError:\n",
    "    print(\"\")"
   ]
  },
  {
   "cell_type": "markdown",
   "metadata": {
    "colab_type": "text",
    "id": "0Eq4FHjL9J7F"
   },
   "source": [
    "### 3.10)-Correlation between categorical variables\n",
    "\n",
    "w.r.t loss"
   ]
  },
  {
   "cell_type": "code",
   "execution_count": 43,
   "metadata": {
    "colab": {},
    "colab_type": "code",
    "id": "HyRY04d08lDg"
   },
   "outputs": [],
   "source": [
    "filterG2 = list((df_insurance[catFeatureslist].apply(pd.Series.nunique) == 2))\n",
    "catFeaturesG2List = [i for (i, v) in zip(catFeatureslist, filterG2) if v]\n",
    "catFeaturesG2List.append(\"loss\")"
   ]
  },
  {
   "cell_type": "code",
   "execution_count": 44,
   "metadata": {
    "colab": {
     "base_uri": "https://localhost:8080/",
     "height": 218
    },
    "colab_type": "code",
    "id": "4zViGJ319UWo",
    "outputId": "b92682aa-ea7f-418b-903b-c3c183d93a66"
   },
   "outputs": [
    {
     "name": "stdout",
     "output_type": "stream",
     "text": [
      "Top 5 most correlated categorical feature pairs: \n",
      "\n",
      "cat2   cat9     0.932420\n",
      "cat9   cat2     0.932420\n",
      "cat50  cat6     0.925731\n",
      "cat6   cat50    0.925731\n",
      "cat8   cat66    0.862231\n",
      "cat66  cat8     0.862231\n",
      "cat57  cat7     0.809418\n",
      "cat7   cat57    0.809418\n",
      "cat3   cat16    0.783480\n",
      "dtype: float64\n"
     ]
    }
   ],
   "source": [
    "corrCatMatrix = df_insurance[catFeaturesG2List].corr().abs()\n",
    "\n",
    "s = corrCatMatrix.unstack()\n",
    "sortedSeries= s.sort_values(kind=\"quicksort\",ascending=False)\n",
    "\n",
    "print(\"Top 5 most correlated categorical feature pairs: \\n\")\n",
    "print(sortedSeries[sortedSeries != 1.0][0:9])"
   ]
  }
 ],
 "metadata": {
  "accelerator": "GPU",
  "colab": {
   "collapsed_sections": [],
   "name": "EDA.ipynb",
   "provenance": [],
   "version": "0.3.2"
  },
  "kernelspec": {
   "display_name": "Python 3",
   "language": "python",
   "name": "python3"
  },
  "language_info": {
   "codemirror_mode": {
    "name": "ipython",
    "version": 3
   },
   "file_extension": ".py",
   "mimetype": "text/x-python",
   "name": "python",
   "nbconvert_exporter": "python",
   "pygments_lexer": "ipython3",
   "version": "3.6.3"
  }
 },
 "nbformat": 4,
 "nbformat_minor": 1
}
